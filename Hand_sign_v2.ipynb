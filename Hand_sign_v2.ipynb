{
 "cells": [
  {
   "cell_type": "code",
   "execution_count": 57,
   "metadata": {},
   "outputs": [],
   "source": [
    "import matplotlib.pyplot as plt\n",
    "import numpy as np\n",
    "import cv2\n",
    "import os\n",
    "import pathlib\n",
    "import zipfile\n",
    "import torch\n",
    "import torchvision\n",
    "from torchvision.transforms import transforms\n",
    "from torch.utils.data import Dataset, DataLoader, ConcatDataset\n",
    "import torch.optim as optim\n",
    "import torch.nn.functional as F\n",
    "from tqdm import tqdm"
   ]
  },
  {
   "cell_type": "code",
   "execution_count": 2,
   "metadata": {},
   "outputs": [],
   "source": [
    "#checking for device\n",
    "device=torch.device('cuda' if torch.cuda.is_available() else 'cpu')"
   ]
  },
  {
   "cell_type": "code",
   "execution_count": 3,
   "metadata": {},
   "outputs": [
    {
     "name": "stdout",
     "output_type": "stream",
     "text": [
      "cpu\n"
     ]
    }
   ],
   "source": [
    "print(device)"
   ]
  },
  {
   "cell_type": "code",
   "execution_count": 4,
   "metadata": {},
   "outputs": [],
   "source": [
    "def totalSize(path):\n",
    "  sum = 0;\n",
    "  for path, subdirs, files in os.walk(path):  ## walk directory\n",
    "    sum += len(files)\n",
    "    # for name in files:\n",
    "        # print(os.path.join(path, name))\n",
    "  return sum"
   ]
  },
  {
   "cell_type": "code",
   "execution_count": 8,
   "metadata": {},
   "outputs": [],
   "source": [
    "base_dir='D:\\Project\\Machine Learning Projects\\Datasets\\Hands'"
   ]
  },
  {
   "cell_type": "code",
   "execution_count": 9,
   "metadata": {},
   "outputs": [],
   "source": [
    "train_dir = os.path.join(base_dir, 'train')\n",
    "validation_dir = os.path.join(base_dir, 'validation')"
   ]
  },
  {
   "cell_type": "code",
   "execution_count": 10,
   "metadata": {},
   "outputs": [
    {
     "name": "stdout",
     "output_type": "stream",
     "text": [
      "Train Data Size :  2118\n",
      "Validation Data Size :  999\n"
     ]
    }
   ],
   "source": [
    "print(\"Train Data Size : \",totalSize(train_dir))\n",
    "print(\"Validation Data Size : \", totalSize(validation_dir))"
   ]
  },
  {
   "cell_type": "code",
   "execution_count": 11,
   "metadata": {},
   "outputs": [
    {
     "data": {
      "text/plain": [
       "['1', '2', '3', '4', '5']"
      ]
     },
     "execution_count": 11,
     "metadata": {},
     "output_type": "execute_result"
    }
   ],
   "source": [
    "classes = os.listdir(train_dir) \n",
    "classes"
   ]
  },
  {
   "cell_type": "code",
   "execution_count": 12,
   "metadata": {},
   "outputs": [],
   "source": [
    "BATCH_SIZE = 32 ## number of image batch size \n",
    "IMAGE_SIZE = 128 ## set image height width to 128x128\n",
    "transform = transforms.Compose([\n",
    "                                # transforms.ToPILImage(),\n",
    "                                # transforms.Grayscale(),\n",
    "                                transforms.RandomRotation(20,expand=True), ## adding random rotation 20deg\n",
    "                                torchvision.transforms.ColorJitter(hue=.05, saturation=.05), ## adding color filter\n",
    "                                transforms.RandomVerticalFlip(), ## adding vertical flip\n",
    "                                transforms.RandomHorizontalFlip(), ## adding horizontal flip\n",
    "                                transforms.Resize(IMAGE_SIZE),  ## image resize\n",
    "                                transforms.CenterCrop(IMAGE_SIZE), ## image center crop\n",
    "                                transforms.ToTensor(), ## array converted into torch tensor and then divided by 255 (1.0/255)\n",
    "                                # transforms.Normalize((0.5, 0.5, 0.5), (0.5, 0.5, 0.5))\n",
    "                               ])"
   ]
  },
  {
   "cell_type": "code",
   "execution_count": 13,
   "metadata": {},
   "outputs": [],
   "source": [
    "train_loader=DataLoader(\n",
    "    torchvision.datasets.ImageFolder(train_dir,transform=transform),\n",
    "    batch_size=32, shuffle=True\n",
    ")"
   ]
  },
  {
   "cell_type": "code",
   "execution_count": 14,
   "metadata": {},
   "outputs": [],
   "source": [
    "validation_loader=DataLoader(\n",
    "    torchvision.datasets.ImageFolder(validation_dir,transform=transform),\n",
    "    batch_size=32, shuffle=True\n",
    ")"
   ]
  },
  {
   "cell_type": "code",
   "execution_count": 15,
   "metadata": {},
   "outputs": [],
   "source": [
    "data_iter = iter(train_loader)\n",
    "images, labels = data_iter.next()"
   ]
  },
  {
   "cell_type": "code",
   "execution_count": 42,
   "metadata": {},
   "outputs": [
    {
     "name": "stdout",
     "output_type": "stream",
     "text": [
      "torch.Size([32, 3, 128, 128])\n",
      "torch.Size([32])\n"
     ]
    }
   ],
   "source": [
    "print(images.size())  #[batch_size,color_channel,hight,width]\n",
    "\n",
    "print(labels.size()) #one iter has 32 images and labels because batch size are 64 "
   ]
  },
  {
   "cell_type": "code",
   "execution_count": 45,
   "metadata": {},
   "outputs": [],
   "source": [
    "layers = [\n",
    "    torch.nn.Conv2d(in_channels=3, out_channels=16, kernel_size=5), \n",
    "    torch.nn.MaxPool2d(2,2),\n",
    "    torch.nn.Conv2d(in_channels=16, out_channels=32, kernel_size=5), \n",
    "    torch.nn.MaxPool2d(2,2),\n",
    "    torch.nn.Conv2d(in_channels=32, out_channels=128, kernel_size=5),\n",
    "    torch.nn.MaxPool2d(2,2),\n",
    "\n",
    "]\n",
    " \n"
   ]
  },
  {
   "cell_type": "code",
   "execution_count": 46,
   "metadata": {},
   "outputs": [
    {
     "name": "stdout",
     "output_type": "stream",
     "text": [
      "torch.Size([32, 3, 128, 128])\n"
     ]
    }
   ],
   "source": [
    "x = images\n",
    "print(x.shape,end='\\n')"
   ]
  },
  {
   "cell_type": "code",
   "execution_count": 47,
   "metadata": {},
   "outputs": [
    {
     "name": "stdout",
     "output_type": "stream",
     "text": [
      "torch.Size([32, 16, 124, 124])\n",
      "torch.Size([32, 16, 62, 62])\n",
      "torch.Size([32, 32, 58, 58])\n",
      "torch.Size([32, 32, 29, 29])\n",
      "torch.Size([32, 128, 25, 25])\n",
      "torch.Size([32, 128, 12, 12])\n"
     ]
    }
   ],
   "source": [
    "for layer in layers:\n",
    "    output = layer(x)\n",
    "    x = output\n",
    "    print(x.shape)"
   ]
  },
  {
   "cell_type": "code",
   "execution_count": null,
   "metadata": {},
   "outputs": [],
   "source": []
  },
  {
   "cell_type": "code",
   "execution_count": 28,
   "metadata": {},
   "outputs": [],
   "source": []
  },
  {
   "cell_type": "code",
   "execution_count": 54,
   "metadata": {},
   "outputs": [
    {
     "name": "stdout",
     "output_type": "stream",
     "text": [
      "CNN(\n",
      "  (conv1): Conv2d(3, 16, kernel_size=(5, 5), stride=(1, 1))\n",
      "  (conv2): Conv2d(16, 32, kernel_size=(5, 5), stride=(1, 1))\n",
      "  (conv3): Conv2d(32, 128, kernel_size=(5, 5), stride=(1, 1))\n",
      "  (dropout): Dropout(p=0.2, inplace=False)\n",
      "  (pool): MaxPool2d(kernel_size=2, stride=2, padding=0, dilation=1, ceil_mode=False)\n",
      "  (fc1): Linear(in_features=18432, out_features=512, bias=True)\n",
      "  (fc2): Linear(in_features=512, out_features=5, bias=True)\n",
      ")\n"
     ]
    }
   ],
   "source": [
    "\n",
    "class CNN(torch.nn.Module): \n",
    "    def __init__(self):\n",
    "        super(CNN, self).__init__()\n",
    "\n",
    "        #initializing 3 convolution layer\n",
    "        self.conv1 = torch.nn.Conv2d(in_channels=3, out_channels=16, kernel_size=5)\n",
    "        self.conv2 = torch.nn.Conv2d(in_channels=16, out_channels=32, kernel_size=5)\n",
    "        self.conv3 =  torch.nn.Conv2d(in_channels=32, out_channels=128, kernel_size=5)\n",
    "        \n",
    "        #initializing dropout \n",
    "        self.dropout = torch.nn.Dropout(0.2)\n",
    "        \n",
    "        self.pool= torch.nn.MaxPool2d(2,2)\n",
    "\n",
    " \n",
    "        #initializing linear \n",
    "        self.fc1 = torch.nn.Linear(128 * 12 * 12, 512)\n",
    "        self.fc2 = torch.nn.Linear(512, 5)\n",
    "\n",
    " \n",
    "    def forward(self, x):\n",
    "        \n",
    "        \n",
    "        x=x\n",
    "        \n",
    "        x=self.conv1(x)\n",
    "        x=F.relu(x)\n",
    "        x = self.pool(x)\n",
    "        \n",
    "        x=self.conv2(x)\n",
    "        x=F.relu(x)\n",
    "        x = self.pool(x) \n",
    "\n",
    "        x=self.conv3(x)\n",
    "        x=F.relu(x)\n",
    "        x = self.pool(x)\n",
    "        \n",
    "        x = x.view(-1, 128*12*12) \n",
    "        \n",
    "        x = F.relu(self.fc1(x))\n",
    "        \n",
    "        x = self.fc2(x) \n",
    "        return x\n",
    "        \n",
    "device = torch.device('cuda:0' if torch.cuda.is_available() else 'cpu')\n",
    "device\n",
    "model = CNN().to(device)\n",
    "print(model)"
   ]
  },
  {
   "cell_type": "code",
   "execution_count": 55,
   "metadata": {},
   "outputs": [],
   "source": [
    "num_classes = 5\n",
    "batch_size = BATCH_SIZE\n",
    "learning_rate = 0.001\n",
    " \n",
    "criterion = torch.nn.CrossEntropyLoss()\n",
    "optimizer = torch.optim.Adam(model.parameters())"
   ]
  },
  {
   "cell_type": "markdown",
   "metadata": {},
   "source": [
    "#  Training"
   ]
  },
  {
   "cell_type": "code",
   "execution_count": 62,
   "metadata": {},
   "outputs": [
    {
     "name": "stderr",
     "output_type": "stream",
     "text": [
      "100%|██████████████████████████████████████████████████████████████████████████████████| 67/67 [00:33<00:00,  1.99it/s]\n",
      "  0%|                                                                                           | 0/67 [00:00<?, ?it/s]"
     ]
    },
    {
     "name": "stdout",
     "output_type": "stream",
     "text": [
      "Epoch: 0. Loss: 0.1333073377609253\n"
     ]
    },
    {
     "name": "stderr",
     "output_type": "stream",
     "text": [
      "100%|██████████████████████████████████████████████████████████████████████████████████| 67/67 [00:41<00:00,  1.62it/s]\n",
      "  0%|                                                                                           | 0/67 [00:00<?, ?it/s]"
     ]
    },
    {
     "name": "stdout",
     "output_type": "stream",
     "text": [
      "Epoch: 1. Loss: 0.2768489122390747\n"
     ]
    },
    {
     "name": "stderr",
     "output_type": "stream",
     "text": [
      "100%|██████████████████████████████████████████████████████████████████████████████████| 67/67 [00:38<00:00,  1.72it/s]\n",
      "  0%|                                                                                           | 0/67 [00:00<?, ?it/s]"
     ]
    },
    {
     "name": "stdout",
     "output_type": "stream",
     "text": [
      "Epoch: 2. Loss: 1.0356236696243286\n"
     ]
    },
    {
     "name": "stderr",
     "output_type": "stream",
     "text": [
      "100%|██████████████████████████████████████████████████████████████████████████████████| 67/67 [00:39<00:00,  1.72it/s]\n",
      "  0%|                                                                                           | 0/67 [00:00<?, ?it/s]"
     ]
    },
    {
     "name": "stdout",
     "output_type": "stream",
     "text": [
      "Epoch: 3. Loss: 1.0026482343673706\n"
     ]
    },
    {
     "name": "stderr",
     "output_type": "stream",
     "text": [
      "100%|██████████████████████████████████████████████████████████████████████████████████| 67/67 [00:42<00:00,  1.56it/s]"
     ]
    },
    {
     "name": "stdout",
     "output_type": "stream",
     "text": [
      "Epoch: 4. Loss: 0.1259385198354721\n"
     ]
    },
    {
     "name": "stderr",
     "output_type": "stream",
     "text": [
      "\n"
     ]
    }
   ],
   "source": [
    "epochs = 5\n",
    "for epoch in range(epochs):\n",
    "    \n",
    "    for inputs, labels in tqdm(train_loader):\n",
    "        \n",
    "        inputs, labels = inputs.to(device), labels.to(device)\n",
    "\n",
    "        optimizer.zero_grad()\n",
    "\n",
    "        test = model(inputs)\n",
    "        loss = criterion(test, labels)\n",
    "        loss.backward()\n",
    "        optimizer.step()\n",
    "    print(f\"Epoch: {epoch}. Loss: {loss}\")"
   ]
  },
  {
   "cell_type": "code",
   "execution_count": 64,
   "metadata": {},
   "outputs": [],
   "source": [
    "PATH = './Hand_Finger_v2.pth'\n",
    "torch.save(model.state_dict(), PATH)"
   ]
  },
  {
   "cell_type": "code",
   "execution_count": 67,
   "metadata": {},
   "outputs": [],
   "source": [
    "correct = 0\n",
    "total = 0\n",
    "with torch.no_grad():\n",
    "    for inputs, labels in validation_loader:\n",
    "        inputs, labels = inputs.to(device), labels.to(device)\n",
    "        logps = model.forward(inputs)\n",
    "        batch_loss = criterion(logps, labels)\n",
    "\n",
    "        pred = torch.argmax(logps, dim=1)\n",
    "        correct = pred.eq(labels)\n",
    "        "
   ]
  },
  {
   "cell_type": "code",
   "execution_count": 68,
   "metadata": {},
   "outputs": [
    {
     "name": "stdout",
     "output_type": "stream",
     "text": [
      "tensor(25.2946)\n"
     ]
    }
   ],
   "source": [
    "print(accuracy)"
   ]
  },
  {
   "cell_type": "code",
   "execution_count": null,
   "metadata": {},
   "outputs": [],
   "source": []
  }
 ],
 "metadata": {
  "kernelspec": {
   "display_name": "Python 3",
   "language": "python",
   "name": "python3"
  },
  "language_info": {
   "codemirror_mode": {
    "name": "ipython",
    "version": 3
   },
   "file_extension": ".py",
   "mimetype": "text/x-python",
   "name": "python",
   "nbconvert_exporter": "python",
   "pygments_lexer": "ipython3",
   "version": "3.8.3"
  }
 },
 "nbformat": 4,
 "nbformat_minor": 4
}
